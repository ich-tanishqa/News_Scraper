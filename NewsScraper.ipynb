{
  "nbformat": 4,
  "nbformat_minor": 0,
  "metadata": {
    "colab": {
      "provenance": []
    },
    "kernelspec": {
      "name": "python3",
      "display_name": "Python 3"
    },
    "language_info": {
      "name": "python"
    }
  },
  "cells": [
    {
      "cell_type": "code",
      "execution_count": null,
      "metadata": {
        "colab": {
          "base_uri": "https://localhost:8080/"
        },
        "id": "0IT0Br2zDMSE",
        "outputId": "e8c598da-1f9d-40e2-a3a7-987862d4dbd8"
      },
      "outputs": [
        {
          "output_type": "stream",
          "name": "stdout",
          "text": [
            "Requirement already satisfied: newspaper3k in /usr/local/lib/python3.10/dist-packages (0.2.8)\n",
            "Requirement already satisfied: beautifulsoup4>=4.4.1 in /usr/local/lib/python3.10/dist-packages (from newspaper3k) (4.12.3)\n",
            "Requirement already satisfied: Pillow>=3.3.0 in /usr/local/lib/python3.10/dist-packages (from newspaper3k) (9.4.0)\n",
            "Requirement already satisfied: PyYAML>=3.11 in /usr/local/lib/python3.10/dist-packages (from newspaper3k) (6.0.1)\n",
            "Requirement already satisfied: cssselect>=0.9.2 in /usr/local/lib/python3.10/dist-packages (from newspaper3k) (1.2.0)\n",
            "Requirement already satisfied: lxml>=3.6.0 in /usr/local/lib/python3.10/dist-packages (from newspaper3k) (4.9.4)\n",
            "Requirement already satisfied: nltk>=3.2.1 in /usr/local/lib/python3.10/dist-packages (from newspaper3k) (3.8.1)\n",
            "Requirement already satisfied: requests>=2.10.0 in /usr/local/lib/python3.10/dist-packages (from newspaper3k) (2.31.0)\n",
            "Requirement already satisfied: feedparser>=5.2.1 in /usr/local/lib/python3.10/dist-packages (from newspaper3k) (6.0.11)\n",
            "Requirement already satisfied: tldextract>=2.0.1 in /usr/local/lib/python3.10/dist-packages (from newspaper3k) (5.1.2)\n",
            "Requirement already satisfied: feedfinder2>=0.0.4 in /usr/local/lib/python3.10/dist-packages (from newspaper3k) (0.0.4)\n",
            "Requirement already satisfied: jieba3k>=0.35.1 in /usr/local/lib/python3.10/dist-packages (from newspaper3k) (0.35.1)\n",
            "Requirement already satisfied: python-dateutil>=2.5.3 in /usr/local/lib/python3.10/dist-packages (from newspaper3k) (2.8.2)\n",
            "Requirement already satisfied: tinysegmenter==0.3 in /usr/local/lib/python3.10/dist-packages (from newspaper3k) (0.3)\n",
            "Requirement already satisfied: soupsieve>1.2 in /usr/local/lib/python3.10/dist-packages (from beautifulsoup4>=4.4.1->newspaper3k) (2.5)\n",
            "Requirement already satisfied: six in /usr/local/lib/python3.10/dist-packages (from feedfinder2>=0.0.4->newspaper3k) (1.16.0)\n",
            "Requirement already satisfied: sgmllib3k in /usr/local/lib/python3.10/dist-packages (from feedparser>=5.2.1->newspaper3k) (1.0.0)\n",
            "Requirement already satisfied: click in /usr/local/lib/python3.10/dist-packages (from nltk>=3.2.1->newspaper3k) (8.1.7)\n",
            "Requirement already satisfied: joblib in /usr/local/lib/python3.10/dist-packages (from nltk>=3.2.1->newspaper3k) (1.4.2)\n",
            "Requirement already satisfied: regex>=2021.8.3 in /usr/local/lib/python3.10/dist-packages (from nltk>=3.2.1->newspaper3k) (2024.5.15)\n",
            "Requirement already satisfied: tqdm in /usr/local/lib/python3.10/dist-packages (from nltk>=3.2.1->newspaper3k) (4.66.4)\n",
            "Requirement already satisfied: charset-normalizer<4,>=2 in /usr/local/lib/python3.10/dist-packages (from requests>=2.10.0->newspaper3k) (3.3.2)\n",
            "Requirement already satisfied: idna<4,>=2.5 in /usr/local/lib/python3.10/dist-packages (from requests>=2.10.0->newspaper3k) (3.7)\n",
            "Requirement already satisfied: urllib3<3,>=1.21.1 in /usr/local/lib/python3.10/dist-packages (from requests>=2.10.0->newspaper3k) (2.0.7)\n",
            "Requirement already satisfied: certifi>=2017.4.17 in /usr/local/lib/python3.10/dist-packages (from requests>=2.10.0->newspaper3k) (2024.6.2)\n",
            "Requirement already satisfied: requests-file>=1.4 in /usr/local/lib/python3.10/dist-packages (from tldextract>=2.0.1->newspaper3k) (2.1.0)\n",
            "Requirement already satisfied: filelock>=3.0.8 in /usr/local/lib/python3.10/dist-packages (from tldextract>=2.0.1->newspaper3k) (3.15.3)\n"
          ]
        }
      ],
      "source": [
        "!pip install newspaper3k"
      ]
    },
    {
      "cell_type": "code",
      "source": [
        "# prompt: Write a code which can scrape the data from the news articles to which the link is provided\n",
        "\n",
        "import newspaper\n",
        "from newspaper import Article\n",
        "\n",
        "# Create a list of article URLs\n",
        "article_urls = [\n",
        "    \"https://www.thehindu.com/news/national/Tharoorrsquos-cattle-class-tweet-annoys-Congress/article16881830.ece\",\n",
        "    \"https://timesofindia.indiatimes.com/india/shashi-tharoors-controversial-political-stint/articleshow/5829403.cms\",\n",
        "]\n",
        "\n",
        "# Create an empty list to store the article data\n",
        "articles = []\n",
        "\n",
        "# Loop through the article URLs\n",
        "for url in article_urls:\n",
        "    # Create an Article object\n",
        "    article = Article(url)\n",
        "\n",
        "    # Download the article\n",
        "    article.download()\n",
        "\n",
        "    # Parse the article\n",
        "    article.parse()\n",
        "\n",
        "    # Add the article data to the list\n",
        "    articles.append({\n",
        "        \"title\": article.title,\n",
        "        \"text\": article.text,\n",
        "        \"url\": url,\n",
        "    })\n",
        "\n",
        "# Print the article data\n",
        "for article in articles:\n",
        "    print(\"Title:\", article[\"title\"])\n",
        "    print(\"Text:\", article[\"text\"])\n",
        "    print(\"URL:\", article[\"url\"])\n",
        "    print()\n"
      ],
      "metadata": {
        "colab": {
          "base_uri": "https://localhost:8080/"
        },
        "id": "Qy9f7BlvFxXx",
        "outputId": "7a9dd39d-01d3-4d0b-99a7-5cbadf0f6920"
      },
      "execution_count": null,
      "outputs": [
        {
          "output_type": "stream",
          "name": "stdout",
          "text": [
            "Title: Tharoor&rsquo;s \"cattle class\" tweet annoys Congress\n",
            "Text: Minister of State for External Affairs Shashi Tharoor ran into trouble for the second time in a week on Wednesday, this time for a message he posted on the social networking site Twitter, in which he said he would travel “cattle class” in solidarity with all our “holy cows.”\n",
            "\n",
            "Faced with a flurry of questions on his ‘tweet,’ Congress spokesperson Jayanthi Natarajan said the party strongly disapproved of the expression “cattle class.” Conceding that the term “cattle class” is a commonly used jargon, she said: “But we find it unacceptable because thousands of Indians travel on ordinary class.”\n",
            "\n",
            "Though Ms. Natarajan refused to be drawn into commenting on whether any kind of disciplinary action was being contemplated against Mr. Tharoor, she did add that he was perhaps not conscious of the sensitivities since he was new to Indian politics.\n",
            "\n",
            "Asked if he would travel cattle class the next time he visited Kerala, Mr. Tharoor tweeted: “Absolutely, in cattle class out of solidarity with all our holy cows!”\n",
            "\n",
            "What has stunned the Congress is that Mr. Tharoor could have made such a comment — particularly, the reference to ‘holy cows’ — on a day when Congress president Sonia Gandhi flew economy class to Mumbai.\n",
            "\n",
            "Last week, Mr. Tharoor found himself in a spot of bother after it came to light that he was staying in a five star hotel in the Capital, as his official residence was under renovation.\n",
            "\n",
            "Though the Minister said he was footing his hotel bills, the fact that he was living in a five star hotel at a time when the Congress central leadership was preaching austerity drew a lot of flak.\n",
            "URL: https://www.thehindu.com/news/national/Tharoorrsquos-cattle-class-tweet-annoys-Congress/article16881830.ece\n",
            "\n",
            "Title: Shashi Tharoor's controversial political stint\n",
            "Text: NEW DELHI: Controversy became the other name for Shashi Tharoor who parachuted into the rough and tumble of Indian politics from the air-conditioned and cushy environs of international diplomacy.The year-long turbulent political career of the flamboyant diplomat saw him leaping from controversy to controversy leaving his party Congress as also the government red faced from time to time.The 54-year-old first time MP from Thiruvananthapuram was an unconventional politician who broke many unwritten rules of politics and raised many an eyebrow by 'tweeting' on matters -- both personal and not so personal.He could perhaps be the only minister in recent times who was told by the AICC discreetly and not-so-discreetly that silence will be golden for him.The nemesis for the Minister of State for External Affairs came after he was the centre of much glitz and glamour when he \"mentored\" the IPL team for Kochi and came in conflict with IPL Commissioner Lalit Modi.Tharoor is battling allegations that a business woman had received Rs 70-crore free equity in Kochi IPL team and his party. Incidentally, Sunanda Pushkar was the woman whom the Minister is said to be planning to marry after divorcing his second wife, a Canadian.The former UN Under Secretary General never jelled with the politics of Congress in his native Kerala as local leaders always dubbed him as a para-trooper who landed in Thiruvananthapuram much against their wishes.Though his 'tweeting' on foreign policy matters evoked much ire in the establishment, his doctoral thesis 'Reasons of State' is considered a must-read in courses on Indian foreign-policy making. Tharoor at the age of 22 had become the youngest person in the history of the Fletcher School to be awarded a doctorate.The London-born Tharoor, who resigned from the United Nations after his unsuccessful bid for its Secretary General, flew to Dubai to become the chairman of Dubai-based Afras Ventures, which established the Afras Academy for Business Communication (AABC) in Thiruvananthapuram.He entered politics and immediately there were a number of dyed-in-wool politicians who worked against him. Notwithstanding that, he was declared a candidate for the Lok Sabha seat from Thiruvananthapuram and won by a margin of around 100,000 votes. He was then inducted in the ministry.Tharoor has also written a number books in English. Most of his literary creations are centred on Indian themes. 'The Great Indian Novel', published in 1989, is widely read as he uses the narrative and theme of the famous Indian epic Mahabharata to weave a satirical story of Indian life in a non-linear mode with the characters drawn from the Indian Independence Movement.His novel Show Business was made into the film 'Bollywood'. The late Ismail Merchant had announced his wish to make a film of Tharoor's novel 'Riot' but it did not materialise as the legendary film maker died soon.\n",
            "URL: https://timesofindia.indiatimes.com/india/shashi-tharoors-controversial-political-stint/articleshow/5829403.cms\n",
            "\n"
          ]
        }
      ]
    },
    {
      "cell_type": "code",
      "source": [],
      "metadata": {
        "id": "Xo_AHEEZIzMr"
      },
      "execution_count": null,
      "outputs": []
    }
  ]
}